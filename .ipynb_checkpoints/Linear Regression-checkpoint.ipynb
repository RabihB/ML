{
 "cells": [
  {
   "cell_type": "code",
   "execution_count": 1,
   "id": "3e5b3da2",
   "metadata": {},
   "outputs": [
    {
     "name": "stdout",
     "output_type": "stream",
     "text": [
      "              age        Medu        Fedu  traveltime   studytime    failures  \\\n",
      "count  395.000000  395.000000  395.000000  395.000000  395.000000  395.000000   \n",
      "mean    16.696203    2.749367    2.521519    1.448101    2.035443    0.334177   \n",
      "std      1.276043    1.094735    1.088201    0.697505    0.839240    0.743651   \n",
      "min     15.000000    0.000000    0.000000    1.000000    1.000000    0.000000   \n",
      "25%     16.000000    2.000000    2.000000    1.000000    1.000000    0.000000   \n",
      "50%     17.000000    3.000000    2.000000    1.000000    2.000000    0.000000   \n",
      "75%     18.000000    4.000000    3.000000    2.000000    2.000000    0.000000   \n",
      "max     22.000000    4.000000    4.000000    4.000000    4.000000    3.000000   \n",
      "\n",
      "           famrel    freetime       goout        Dalc        Walc      health  \\\n",
      "count  395.000000  395.000000  395.000000  395.000000  395.000000  395.000000   \n",
      "mean     3.944304    3.235443    3.108861    1.481013    2.291139    3.554430   \n",
      "std      0.896659    0.998862    1.113278    0.890741    1.287897    1.390303   \n",
      "min      1.000000    1.000000    1.000000    1.000000    1.000000    1.000000   \n",
      "25%      4.000000    3.000000    2.000000    1.000000    1.000000    3.000000   \n",
      "50%      4.000000    3.000000    3.000000    1.000000    2.000000    4.000000   \n",
      "75%      5.000000    4.000000    4.000000    2.000000    3.000000    5.000000   \n",
      "max      5.000000    5.000000    5.000000    5.000000    5.000000    5.000000   \n",
      "\n",
      "         absences          G1          G2          G3  \n",
      "count  395.000000  395.000000  395.000000  395.000000  \n",
      "mean     5.708861   10.908861   10.713924   10.415190  \n",
      "std      8.003096    3.319195    3.761505    4.581443  \n",
      "min      0.000000    3.000000    0.000000    0.000000  \n",
      "25%      0.000000    8.000000    9.000000    8.000000  \n",
      "50%      4.000000   11.000000   11.000000   11.000000  \n",
      "75%      8.000000   13.000000   13.000000   14.000000  \n",
      "max     75.000000   19.000000   19.000000   20.000000  \n"
     ]
    }
   ],
   "source": [
    "import numpy as np\n",
    "import pandas as pd\n",
    "import sklearn\n",
    "from sklearn import linear_model\n",
    "from sklearn.utils import shuffle\n",
    "import matplotlib.pyplot as pyplot\n",
    "from matplotlib import style\n",
    "import pickle\n",
    "\n",
    "data = pd.read_csv('dataset/student-mat.csv', sep = ';')\n",
    "print(data.describe())"
   ]
  },
  {
   "cell_type": "code",
   "execution_count": 2,
   "id": "1082af83",
   "metadata": {
    "scrolled": true
   },
   "outputs": [
    {
     "name": "stdout",
     "output_type": "stream",
     "text": [
      "<bound method NDFrame.head of      G1  G2  G3  studytime  failures  absences\n",
      "0     5   6   6          2         0         6\n",
      "1     5   5   6          2         0         4\n",
      "2     7   8  10          2         3        10\n",
      "3    15  14  15          3         0         2\n",
      "4     6  10  10          2         0         4\n",
      "..   ..  ..  ..        ...       ...       ...\n",
      "390   9   9   9          2         2        11\n",
      "391  14  16  16          1         0         3\n",
      "392  10   8   7          1         3         3\n",
      "393  11  12  10          1         0         0\n",
      "394   8   9   9          1         0         5\n",
      "\n",
      "[395 rows x 6 columns]>\n"
     ]
    }
   ],
   "source": [
    "data = data[['G1', 'G2', 'G3', 'studytime', 'failures', 'absences']]\n",
    "\n",
    "print(data.head)"
   ]
  },
  {
   "cell_type": "code",
   "execution_count": 3,
   "id": "d4f30a3a",
   "metadata": {},
   "outputs": [
    {
     "name": "stderr",
     "output_type": "stream",
     "text": [
      "C:\\Users\\User\\AppData\\Local\\Temp\\ipykernel_11676\\3672135982.py:2: FutureWarning: In a future version of pandas all arguments of DataFrame.drop except for the argument 'labels' will be keyword-only.\n",
      "  x = np.array(data.drop([predict], 1))\n"
     ]
    }
   ],
   "source": [
    "predict = 'G3'\n",
    "x = np.array(data.drop([predict], 1))\n",
    "y = np.array(data[predict])\n",
    "x_train, x_test, y_train, y_test = sklearn.model_selection.train_test_split(x, y, test_size = 0.1)"
   ]
  },
  {
   "cell_type": "code",
   "execution_count": 4,
   "id": "59eb52a9",
   "metadata": {},
   "outputs": [
    {
     "name": "stdout",
     "output_type": "stream",
     "text": [
      "0.6238200568425134\n",
      "0.6238200568425134\n",
      "0.6238200568425134\n",
      "0.6238200568425134\n",
      "0.6238200568425134\n",
      "0.6238200568425134\n",
      "0.6238200568425134\n",
      "0.6238200568425134\n",
      "0.6238200568425134\n",
      "0.6238200568425134\n",
      "0.6238200568425134\n",
      "0.6238200568425134\n",
      "0.6238200568425134\n",
      "0.6238200568425134\n",
      "0.6238200568425134\n",
      "0.6238200568425134\n",
      "0.6238200568425134\n",
      "0.6238200568425134\n",
      "0.6238200568425134\n",
      "0.6238200568425134\n",
      "0.6238200568425134\n",
      "0.6238200568425134\n",
      "0.6238200568425134\n",
      "0.6238200568425134\n",
      "0.6238200568425134\n",
      "0.6238200568425134\n",
      "0.6238200568425134\n",
      "0.6238200568425134\n",
      "0.6238200568425134\n",
      "0.6238200568425134\n"
     ]
    }
   ],
   "source": [
    "best = 0\n",
    "for nothing in range(30):\n",
    "    linear = linear_model.LinearRegression()\n",
    "    linear.fit(x_train, y_train)\n",
    "    acc = linear.score(x_test, y_test)\n",
    "\n",
    "    print(acc)\n",
    "    if acc > best:\n",
    "        best = acc"
   ]
  },
  {
   "cell_type": "code",
   "execution_count": 5,
   "id": "e45aeddc",
   "metadata": {},
   "outputs": [
    {
     "name": "stdout",
     "output_type": "stream",
     "text": [
      "0.6238200568425134\n"
     ]
    }
   ],
   "source": [
    "print(best)"
   ]
  },
  {
   "cell_type": "code",
   "execution_count": 6,
   "id": "f7e972f5",
   "metadata": {},
   "outputs": [],
   "source": [
    "with open('studentmodel.pickle', 'wb') as f:\n",
    "    pickle.dump(linear, f)\n",
    "    \n",
    "pickle_in = open('studentmodel.pickle', 'rb')\n",
    "linear = pickle.load(pickle_in)"
   ]
  },
  {
   "cell_type": "code",
   "execution_count": 7,
   "id": "34959462",
   "metadata": {},
   "outputs": [
    {
     "name": "stdout",
     "output_type": "stream",
     "text": [
      "Coeficient   : [ 0.12823463  0.98793246 -0.07690417 -0.37822966  0.03108874]\n",
      "Intercept    : -1.4294213254516066\n"
     ]
    }
   ],
   "source": [
    "print(\"Coeficient   :\", linear.coef_)\n",
    "print(\"Intercept    :\", linear.intercept_)"
   ]
  },
  {
   "cell_type": "code",
   "execution_count": 8,
   "id": "8101552c",
   "metadata": {},
   "outputs": [
    {
     "name": "stdout",
     "output_type": "stream",
     "text": [
      "8.084044476656745 [9 9 2 1 0] 0\n",
      "12.574962704392021 [10 13  4  0  6] 13\n",
      "11.122883335012938 [13 11  3  0  8] 11\n",
      "10.891987792061327 [10 11  1  0  8] 10\n",
      "10.951077575927728 [13 11  2  0  0] 10\n",
      "9.37330242003707 [ 9 10  3  0  0] 0\n",
      "8.43670041687942 [10  9  4  0  0] 0\n",
      "12.8974891126745 [13 13  4  0  4] 12\n",
      "12.214929046563906 [12 12  2  0 13] 13\n",
      "8.586629101735666 [9 9 2 0 4] 10\n",
      "8.03142892606588 [9 9 1 2 8] 9\n",
      "8.710984068450319 [9 9 2 0 8] 9\n",
      "3.798941203778825 [7 5 3 1 0] 0\n",
      "4.250195372655241 [6 5 2 0 4] 6\n",
      "11.688055797731751 [12 12  4  0  1] 12\n",
      "9.005859699861825 [10  9  3  1 28] 9\n",
      "7.866012930623535 [10  8  1  0  6] 11\n",
      "8.047790976757774 [ 9  9  2  2 11] 9\n",
      "15.210607130664055 [16 15  3  0  0] 15\n",
      "9.701511097254064 [11 10  2  1 12] 10\n",
      "5.2506946885080135 [7 7 2 3 5] 7\n",
      "7.635878007271254 [7 9 2 2 6] 8\n",
      "6.153035780863402 [7 7 3 0 0] 8\n",
      "15.617005076613502 [17 15  1  0  4] 16\n",
      "11.622957860280943 [13 12  2  1  2] 12\n",
      "4.675960293022737 [8 6 2 2 2] 5\n",
      "9.446326930549219 [ 8 10  2  0  4] 9\n",
      "10.690728651002576 [10 11  2  0  4] 9\n",
      "14.244368725613544 [14 14  1  0  4] 14\n",
      "14.332302947031787 [16 14  4  0  6] 15\n",
      "16.348468274880453 [15 16  1  0  4] 15\n",
      "-0.8777775986532078 [12  0  3  2  0] 0\n",
      "6.603089324984131 [9 8 1 3 6] 10\n",
      "13.991779128352288 [13 14  1  0  0] 13\n",
      "18.251308683088617 [16 18  2  0  0] 18\n",
      "10.43813905374132 [ 9 11  2  0  0] 12\n",
      "5.597835605193617 [7 7 2 2 4] 9\n",
      "7.913463722994093 [10  8  2  0 10] 8\n",
      "8.396216987831735 [8 9 2 0 2] 8\n",
      "11.442433563793369 [ 9 12  3  0  3] 11\n"
     ]
    }
   ],
   "source": [
    "predictions = linear.predict(x_test)\n",
    "\n",
    "for x in range(len(predictions)):\n",
    "    print(predictions[x], x_test[x], y_test[x])"
   ]
  },
  {
   "cell_type": "code",
   "execution_count": 11,
   "id": "a5f1f5f0",
   "metadata": {},
   "outputs": [
    {
     "data": {
      "image/png": "[encoded data removed]",
      "text/plain": [
       "<Figure size 640x480 with 1 Axes>"
      ]
     },
     "metadata": {},
     "output_type": "display_data"
    }
   ],
   "source": [
    "p = \"failures\"\n",
    "style.use('ggplot')\n",
    "pyplot.scatter(data[p], data[\"G3\"])\n",
    "pyplot.xlabel(p)\n",
    "pyplot.ylabel(\"final grade\")\n",
    "pyplot.show()"
   ]
  }
 ],
 "metadata": {
  "kernelspec": {
   "display_name": "Python 3 (ipykernel)",
   "language": "python",
   "name": "python3"
  },
  "language_info": {
   "codemirror_mode": {
    "name": "ipython",
    "version": 3
   },
   "file_extension": ".py",
   "mimetype": "text/x-python",
   "name": "python",
   "nbconvert_exporter": "python",
   "pygments_lexer": "ipython3",
   "version": "3.9.13"
  },
  "vscode": {
   "interpreter": {
    "hash": "5c49dd866c1792daa1be55c47114280a226fdc35bf47e596c71ee1f9b83a83f8"
   }
  }
 },
 "nbformat": 4,
 "nbformat_minor": 5
}
