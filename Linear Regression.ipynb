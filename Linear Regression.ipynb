{
 "cells": [
  {
   "cell_type": "code",
   "execution_count": 26,
   "id": "3e5b3da2",
   "metadata": {},
   "outputs": [
    {
     "name": "stdout",
     "output_type": "stream",
     "text": [
      "              age        Medu        Fedu  traveltime   studytime    failures  \\\n",
      "count  395.000000  395.000000  395.000000  395.000000  395.000000  395.000000   \n",
      "mean    16.696203    2.749367    2.521519    1.448101    2.035443    0.334177   \n",
      "std      1.276043    1.094735    1.088201    0.697505    0.839240    0.743651   \n",
      "min     15.000000    0.000000    0.000000    1.000000    1.000000    0.000000   \n",
      "25%     16.000000    2.000000    2.000000    1.000000    1.000000    0.000000   \n",
      "50%     17.000000    3.000000    2.000000    1.000000    2.000000    0.000000   \n",
      "75%     18.000000    4.000000    3.000000    2.000000    2.000000    0.000000   \n",
      "max     22.000000    4.000000    4.000000    4.000000    4.000000    3.000000   \n",
      "\n",
      "           famrel    freetime       goout        Dalc        Walc      health  \\\n",
      "count  395.000000  395.000000  395.000000  395.000000  395.000000  395.000000   \n",
      "mean     3.944304    3.235443    3.108861    1.481013    2.291139    3.554430   \n",
      "std      0.896659    0.998862    1.113278    0.890741    1.287897    1.390303   \n",
      "min      1.000000    1.000000    1.000000    1.000000    1.000000    1.000000   \n",
      "25%      4.000000    3.000000    2.000000    1.000000    1.000000    3.000000   \n",
      "50%      4.000000    3.000000    3.000000    1.000000    2.000000    4.000000   \n",
      "75%      5.000000    4.000000    4.000000    2.000000    3.000000    5.000000   \n",
      "max      5.000000    5.000000    5.000000    5.000000    5.000000    5.000000   \n",
      "\n",
      "         absences          G1          G2          G3  \n",
      "count  395.000000  395.000000  395.000000  395.000000  \n",
      "mean     5.708861   10.908861   10.713924   10.415190  \n",
      "std      8.003096    3.319195    3.761505    4.581443  \n",
      "min      0.000000    3.000000    0.000000    0.000000  \n",
      "25%      0.000000    8.000000    9.000000    8.000000  \n",
      "50%      4.000000   11.000000   11.000000   11.000000  \n",
      "75%      8.000000   13.000000   13.000000   14.000000  \n",
      "max     75.000000   19.000000   19.000000   20.000000  \n"
     ]
    }
   ],
   "source": [
    "import numpy as np\n",
    "import pandas as pd\n",
    "import sklearn\n",
    "from sklearn import linear_model\n",
    "from sklearn.utils import shuffle\n",
    "import matplotlib.pyplot as pyplot\n",
    "from matplotlib import style\n",
    "import pickle\n",
    "\n",
    "data = pd.read_csv('dataset/student-mat.csv', sep = ';')\n",
    "print(data.describe())"
   ]
  },
  {
   "cell_type": "code",
   "execution_count": 27,
   "id": "1082af83",
   "metadata": {
    "scrolled": true
   },
   "outputs": [
    {
     "name": "stdout",
     "output_type": "stream",
     "text": [
      "<bound method NDFrame.head of      G1  G2  G3  studytime  failures  absences\n",
      "0     5   6   6          2         0         6\n",
      "1     5   5   6          2         0         4\n",
      "2     7   8  10          2         3        10\n",
      "3    15  14  15          3         0         2\n",
      "4     6  10  10          2         0         4\n",
      "..   ..  ..  ..        ...       ...       ...\n",
      "390   9   9   9          2         2        11\n",
      "391  14  16  16          1         0         3\n",
      "392  10   8   7          1         3         3\n",
      "393  11  12  10          1         0         0\n",
      "394   8   9   9          1         0         5\n",
      "\n",
      "[395 rows x 6 columns]>\n"
     ]
    }
   ],
   "source": [
    "data = data[['G1', 'G2', 'G3', 'studytime', 'failures', 'absences']]\n",
    "\n",
    "print(data.head)"
   ]
  },
  {
   "cell_type": "code",
   "execution_count": 28,
   "id": "d4f30a3a",
   "metadata": {},
   "outputs": [
    {
     "name": "stderr",
     "output_type": "stream",
     "text": [
      "C:\\Users\\User\\AppData\\Local\\Temp\\ipykernel_11340\\3672135982.py:2: FutureWarning: In a future version of pandas all arguments of DataFrame.drop except for the argument 'labels' will be keyword-only.\n",
      "  x = np.array(data.drop([predict], 1))\n"
     ]
    }
   ],
   "source": [
    "predict = 'G3'\n",
    "x = np.array(data.drop([predict], 1))\n",
    "y = np.array(data[predict])\n",
    "x_train, x_test, y_train, y_test = sklearn.model_selection.train_test_split(x, y, test_size = 0.1)"
   ]
  },
  {
   "cell_type": "code",
   "execution_count": 29,
   "id": "59eb52a9",
   "metadata": {},
   "outputs": [
    {
     "name": "stdout",
     "output_type": "stream",
     "text": [
      "0.8624378529447159\n",
      "0.8624378529447159\n",
      "0.8624378529447159\n",
      "0.8624378529447159\n",
      "0.8624378529447159\n",
      "0.8624378529447159\n",
      "0.8624378529447159\n",
      "0.8624378529447159\n",
      "0.8624378529447159\n",
      "0.8624378529447159\n",
      "0.8624378529447159\n",
      "0.8624378529447159\n",
      "0.8624378529447159\n",
      "0.8624378529447159\n",
      "0.8624378529447159\n",
      "0.8624378529447159\n",
      "0.8624378529447159\n",
      "0.8624378529447159\n",
      "0.8624378529447159\n",
      "0.8624378529447159\n",
      "0.8624378529447159\n",
      "0.8624378529447159\n",
      "0.8624378529447159\n",
      "0.8624378529447159\n",
      "0.8624378529447159\n",
      "0.8624378529447159\n",
      "0.8624378529447159\n",
      "0.8624378529447159\n",
      "0.8624378529447159\n",
      "0.8624378529447159\n"
     ]
    }
   ],
   "source": [
    "best = 0\n",
    "for nothing in range(30):\n",
    "    linear = linear_model.LinearRegression()\n",
    "    linear.fit(x_train, y_train)\n",
    "    acc = linear.score(x_test, y_test)\n",
    "\n",
    "    print(acc)\n",
    "    if acc > best:\n",
    "        best = acc"
   ]
  },
  {
   "cell_type": "code",
   "execution_count": 30,
   "id": "e45aeddc",
   "metadata": {},
   "outputs": [
    {
     "name": "stdout",
     "output_type": "stream",
     "text": [
      "0.8624378529447159\n"
     ]
    }
   ],
   "source": [
    "print(best)"
   ]
  },
  {
   "cell_type": "code",
   "execution_count": 31,
   "id": "f7e972f5",
   "metadata": {},
   "outputs": [],
   "source": [
    "with open('studentmodel.pickle', 'wb') as f:\n",
    "    pickle.dump(linear, f)\n",
    "    \n",
    "pickle_in = open('studentmodel.pickle', 'rb')\n",
    "linear = pickle.load(pickle_in)"
   ]
  },
  {
   "cell_type": "code",
   "execution_count": 32,
   "id": "34959462",
   "metadata": {},
   "outputs": [
    {
     "name": "stdout",
     "output_type": "stream",
     "text": [
      "Coeficient   : [ 0.15973617  0.96810855 -0.19450066 -0.29654196  0.03444716]\n",
      "Intercept    : -1.4183512148663802\n"
     ]
    }
   ],
   "source": [
    "print(\"Coeficient   :\", linear.coef_)\n",
    "print(\"Intercept    :\", linear.intercept_)"
   ]
  },
  {
   "cell_type": "code",
   "execution_count": 34,
   "id": "8101552c",
   "metadata": {},
   "outputs": [
    {
     "name": "stdout",
     "output_type": "stream",
     "text": [
      "8.500843566649301 [ 7 10  3  1  0] 10\n",
      "8.640774787323915 [10  9  2  0  4] 11\n",
      "10.153860744056756 [ 9 11  3  0  2] 11\n",
      "13.709630713951311 [12 14  3  0  7] 14\n",
      "9.556523238657228 [ 7 10  2  1 25] 11\n",
      "4.371826197012385 [ 6  5  1  1 14] 5\n",
      "9.825331522050782 [11 10  1  0  0] 10\n",
      "11.830442947050297 [11 12  1  0  2] 11\n",
      "14.401844656202252 [13 15  4  0  0] 15\n",
      "10.485515393553866 [11 11  4  0  8] 10\n",
      "-1.5669911157625969 [4 0 1 2 0] 0\n",
      "8.37737981075042 [10  9  3  0  2] 10\n",
      "9.380252847459431 [ 9 10  2  0  2] 9\n",
      "-0.6781030634169132 [12  0  3  2  0] 0\n",
      "10.667833739990233 [11 11  2  0  2] 10\n",
      "13.177152942051421 [12 13  2  0 14] 12\n",
      "3.500564637154774 [6 5 3 1 0] 0\n",
      "16.30705735088897 [16 16  2  0  2] 16\n",
      "5.110986932938649 [ 6  6  2  1 13] 8\n",
      "9.426882316925495 [ 9 10  3  0  9] 9\n",
      "11.056200402034463 [13 11  2  0  4] 11\n",
      "8.37737981075042 [10  9  3  0  2] 8\n",
      "7.055034433339301 [9 8 4 0 2] 8\n",
      "18.174380133204238 [16 18  2  0  0] 18\n",
      "8.97646402466351 [10  9  3  1 28] 9\n",
      "15.179212628709223 [15 15  2  0  2] 16\n",
      "12.854628863007601 [13 13  2  0  0] 12\n",
      "14.017238070067666 [13 14  1  0  0] 14\n",
      "6.942245056663568 [7 8 4 0 8] 8\n",
      "5.9340015254109115 [ 7  6  1  0 18] 6\n",
      "5.791018566394586 [7 7 2 1 0] 0\n",
      "14.950582137016045 [14 15  2  0  0] 16\n",
      "7.488388568565341 [8 9 1 3 0] 10\n",
      "11.749714517995432 [14 12  2  1  0] 12\n",
      "8.9918861854152 [ 7 10  2  0  0] 11\n",
      "9.346123010997623 [ 8 10  1  0  0] 11\n",
      "8.549932938314987 [9 9 2 0 6] 10\n",
      "9.076088243043465 [11  9  2  0 12] 9\n",
      "17.53856087929116 [16 17  1  0  4] 18\n",
      "5.017410669797261 [7 6 1 1 0] 0\n"
     ]
    }
   ],
   "source": [
    "predictions = linear.predict(x_test)\n",
    "\n",
    "for x in range(len(predictions)):\n",
    "    print(predictions[x], x_test[x], y_test[x])"
   ]
  },
  {
   "cell_type": "code",
   "execution_count": 2,
   "id": "a5f1f5f0",
   "metadata": {},
   "outputs": [
    {
     "ename": "NameError",
     "evalue": "name 'style' is not defined",
     "output_type": "error",
     "traceback": [
      "\u001b[1;31m---------------------------------------------------------------------------\u001b[0m",
      "\u001b[1;31mNameError\u001b[0m                                 Traceback (most recent call last)",
      "\u001b[1;32m~\\AppData\\Local\\Temp\\ipykernel_10324\\3471365640.py\u001b[0m in \u001b[0;36m<module>\u001b[1;34m\u001b[0m\n\u001b[0;32m      1\u001b[0m \u001b[0mp\u001b[0m \u001b[1;33m=\u001b[0m \u001b[1;34m\"G2\"\u001b[0m\u001b[1;33m\u001b[0m\u001b[1;33m\u001b[0m\u001b[0m\n\u001b[1;32m----> 2\u001b[1;33m \u001b[0mstyle\u001b[0m\u001b[1;33m.\u001b[0m\u001b[0muse\u001b[0m\u001b[1;33m(\u001b[0m\u001b[1;34m'ggplot'\u001b[0m\u001b[1;33m)\u001b[0m\u001b[1;33m\u001b[0m\u001b[1;33m\u001b[0m\u001b[0m\n\u001b[0m\u001b[0;32m      3\u001b[0m \u001b[0mpyplot\u001b[0m\u001b[1;33m.\u001b[0m\u001b[0mscatter\u001b[0m\u001b[1;33m(\u001b[0m\u001b[0mdata\u001b[0m\u001b[1;33m[\u001b[0m\u001b[0mp\u001b[0m\u001b[1;33m]\u001b[0m\u001b[1;33m,\u001b[0m \u001b[0mdata\u001b[0m\u001b[1;33m[\u001b[0m\u001b[1;34m\"G3\"\u001b[0m\u001b[1;33m]\u001b[0m\u001b[1;33m)\u001b[0m\u001b[1;33m\u001b[0m\u001b[1;33m\u001b[0m\u001b[0m\n\u001b[0;32m      4\u001b[0m \u001b[0mpyplot\u001b[0m\u001b[1;33m.\u001b[0m\u001b[0mxlabel\u001b[0m\u001b[1;33m(\u001b[0m\u001b[0mp\u001b[0m\u001b[1;33m)\u001b[0m\u001b[1;33m\u001b[0m\u001b[1;33m\u001b[0m\u001b[0m\n\u001b[0;32m      5\u001b[0m \u001b[0mpyplot\u001b[0m\u001b[1;33m.\u001b[0m\u001b[0mylabel\u001b[0m\u001b[1;33m(\u001b[0m\u001b[1;34m\"final grade\"\u001b[0m\u001b[1;33m)\u001b[0m\u001b[1;33m\u001b[0m\u001b[1;33m\u001b[0m\u001b[0m\n",
      "\u001b[1;31mNameError\u001b[0m: name 'style' is not defined"
     ]
    }
   ],
   "source": [
    "p = \"absences\"\n",
    "style.use('ggplot')\n",
    "pyplot.scatter(data[p], data[\"G3\"])\n",
    "pyplot.xlabel(p)\n",
    "pyplot.ylabel(\"final grade\")\n",
    "pyplot.show()"
   ]
  }
 ],
 "metadata": {
  "kernelspec": {
   "display_name": "Python 3 (ipykernel)",
   "language": "python",
   "name": "python3"
  },
  "language_info": {
   "codemirror_mode": {
    "name": "ipython",
    "version": 3
   },
   "file_extension": ".py",
   "mimetype": "text/x-python",
   "name": "python",
   "nbconvert_exporter": "python",
   "pygments_lexer": "ipython3",
   "version": "3.9.13"
  },
  "vscode": {
   "interpreter": {
    "hash": "5c49dd866c1792daa1be55c47114280a226fdc35bf47e596c71ee1f9b83a83f8"
   }
  }
 },
 "nbformat": 4,
 "nbformat_minor": 5
}
